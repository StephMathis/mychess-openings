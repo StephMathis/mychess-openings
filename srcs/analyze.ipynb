{
 "cells": [
  {
   "cell_type": "code",
   "execution_count": 2,
   "metadata": {},
   "outputs": [],
   "source": [
    "import chess\n",
    "import chess.pgn\n",
    "import chess.engine\n",
    "import anytree"
   ]
  },
  {
   "cell_type": "code",
   "execution_count": 2,
   "metadata": {},
   "outputs": [],
   "source": [
    "import os \n",
    "dir_path = os.getcwd()\n",
    "project_dir = os.sep.join([dir_path, '..'])"
   ]
  },
  {
   "cell_type": "code",
   "execution_count": 3,
   "metadata": {},
   "outputs": [
    {
     "data": {
      "text/plain": [
       "'c:\\\\Users\\\\steph\\\\OneDrive\\\\Documents\\\\Workspace\\\\MyChess\\\\srcs\\\\..\\\\stockfish_15_win_x64_avx2\\\\stockfish_15_x64_avx2.exe'"
      ]
     },
     "execution_count": 3,
     "metadata": {},
     "output_type": "execute_result"
    }
   ],
   "source": [
    "stockfish = os.sep.join([project_dir, 'stockfish_15_win_x64_avx2','stockfish_15_x64_avx2.exe'])\n",
    "stockfish"
   ]
  },
  {
   "cell_type": "code",
   "execution_count": 4,
   "metadata": {},
   "outputs": [],
   "source": [
    "engine = chess.engine.SimpleEngine.popen_uci(stockfish)\n"
   ]
  },
  {
   "cell_type": "code",
   "execution_count": 7,
   "metadata": {},
   "outputs": [
    {
     "name": "stdout",
     "output_type": "stream",
     "text": [
      "metaheuristic 1-0\n",
      "metaheuristic 0-1\n",
      "metaheuristic 1-0\n",
      "metaheuristic 1-0\n",
      "metaheuristic 1-0\n",
      "kanani123 1-0\n",
      "metaheuristic 0-1\n",
      "Allon555 1-0\n",
      "f2user 0-1\n",
      "metaheuristic 1/2-1/2\n"
     ]
    }
   ],
   "source": [
    "pgn_file = os.sep.join([project_dir,'games','10games.txt'])\n",
    "with open(pgn_file) as pgn_games :\n",
    "    for game in iter(lambda: chess.pgn.read_game(pgn_games), None):\n",
    "        headers = game.headers\n",
    "        print(headers['White'], headers['Result'])\n",
    "    #game = chess.pgn.read_game(pgn_games)\n",
    "    \n",
    "\n"
   ]
  },
  {
   "cell_type": "code",
   "execution_count": 44,
   "metadata": {},
   "outputs": [
    {
     "name": "stdout",
     "output_type": "stream",
     "text": [
      "[Event \"Rated Blitz game\"]\n",
      "[Site \"https://lichess.org/JBwwiXBC\"]\n",
      "[Date \"2022.05.26\"]\n",
      "[Round \"?\"]\n",
      "[White \"metaheuristic\"]\n",
      "[Black \"akispara\"]\n",
      "[Result \"1-0\"]\n",
      "[BlackElo \"2056\"]\n",
      "[BlackRatingDiff \"-5\"]\n",
      "[ECO \"B01\"]\n",
      "[Termination \"Normal\"]\n",
      "[TimeControl \"180+2\"]\n",
      "[UTCDate \"2022.05.26\"]\n",
      "[UTCTime \"18:19:39\"]\n",
      "[Variant \"Standard\"]\n",
      "[WhiteElo \"2116\"]\n",
      "[WhiteRatingDiff \"+6\"]\n",
      "\n",
      "1. e4 d5 2. exd5 Nf6 3. c4 e6 4. dxe6 Bxe6 5. d3 Nc6 6. Nf3 Qe7 7. Be3 O-O-O 8. Nbd2 Nb4 9. d4 Bf5 10. Rc1 Nxa2 11. Ra1 Nb4 12. Rxa7 Kb8 13. Qa4 Na6 14. d5 Ng4 15. Rxb7+ Kxb7 16. Qc6+ Kb8 17. Qb5+ Kc8 18. Qxa6+ Kd7 19. Qb5+ Kc8 20. c5 Nxe3 21. Qa6+ Kd7 22. Bb5+ c6 23. Qxc6# 1-0\n",
      "<class 'chess.pgn.ChildNode'>\n",
      "1. e4 c5 2. Nf3 Nc6 3. d4 cxd4 4. Nxd4 e5 5. Nb5 d6 6. N1c3 a6 7. Na3 b5 8. Nd5 Nf6 9. Bg5 Qa5+ 10. Qd2 Qxd2+ 11. Bxd2 Nxd5 12. exd5 Nd4 13. Bd3 Bb7 14. c3 b4 15. cxd4 bxa3 16. bxa3 Bxd5 17. O-O Be7 18. Rfe1 f6 19. dxe5 dxe5 20. Bb4 a5 21. Bb5+ Kf7 22. Bxe7 Kxe7 23. Red1 Rhd8 24. a4 Rac8 25. a3 Rc3 26. h3 h5 27. Rac1 Rxc1 28. Rxc1 g5 29. Rc7+ Ke6 30. Ra7 Ra8 31. Rh7 h4 32. f3 Kf5 33. Bd7+ Kg6 34. Re7 Bb3 35. Bb5 Bd5 36. Rd7 Be6 37. Rd6 Kf7 38. Kf2 f5 39. Ke3 Rc8 40. Ra6 Rc3+ 41. Kd2 Rxa3 42. Rxa5 Ra2+ 43. Kc3 Rxg2 44. Ra7+ Kf8 45. a5 Bd5 46. a6 Rg3 47. Rd7 Bxf3 48. Kb4 Rxh3 49. a7 Rh2 50. Rd6 Rb2+ 51. Kc5 Ra2 52. Ra6 Rxa6 53. Bxa6 h3 54. Kb6 h2 55. Bb7 Bxb7 56. Kxb7 h1=Q+ 57. Kb8 Qd5 58. a8=Q Qxa8+\n"
     ]
    },
    {
     "ename": "AttributeError",
     "evalue": "'ChildNode' object has no attribute 'headers'",
     "output_type": "error",
     "traceback": [
      "\u001b[1;31m---------------------------------------------------------------------------\u001b[0m",
      "\u001b[1;31mAttributeError\u001b[0m                            Traceback (most recent call last)",
      "\u001b[1;32m<ipython-input-44-027fdbf0aa74>\u001b[0m in \u001b[0;36m<module>\u001b[1;34m\u001b[0m\n\u001b[0;32m      4\u001b[0m     \u001b[0mprint\u001b[0m\u001b[1;33m(\u001b[0m\u001b[0mtype\u001b[0m\u001b[1;33m(\u001b[0m\u001b[0mgame\u001b[0m\u001b[1;33m)\u001b[0m\u001b[1;33m)\u001b[0m\u001b[1;33m\u001b[0m\u001b[1;33m\u001b[0m\u001b[0m\n\u001b[0;32m      5\u001b[0m     \u001b[0mprint\u001b[0m\u001b[1;33m(\u001b[0m\u001b[0mgame\u001b[0m\u001b[1;33m)\u001b[0m\u001b[1;33m\u001b[0m\u001b[1;33m\u001b[0m\u001b[0m\n\u001b[1;32m----> 6\u001b[1;33m     \u001b[0mprint\u001b[0m\u001b[1;33m(\u001b[0m\u001b[0mgame\u001b[0m\u001b[1;33m.\u001b[0m\u001b[0mheaders\u001b[0m\u001b[1;33m[\u001b[0m\u001b[1;34m'White'\u001b[0m\u001b[1;33m]\u001b[0m\u001b[1;33m,\u001b[0m \u001b[0mgame\u001b[0m\u001b[1;33m.\u001b[0m\u001b[0mheaders\u001b[0m\u001b[1;33m[\u001b[0m\u001b[1;34m'Result'\u001b[0m\u001b[1;33m]\u001b[0m\u001b[1;33m)\u001b[0m\u001b[1;33m\u001b[0m\u001b[1;33m\u001b[0m\u001b[0m\n\u001b[0m",
      "\u001b[1;31mAttributeError\u001b[0m: 'ChildNode' object has no attribute 'headers'"
     ]
    }
   ],
   "source": [
    "first_game = chess.pgn.read_game(pgn)\n",
    "print(first_game)\n",
    "for game in chess.pgn.read_game(pgn) :\n",
    "    print(type(game))\n",
    "    print(game)\n",
    "    print(game.headers['White'], game.headers['Result'])\n"
   ]
  },
  {
   "cell_type": "code",
   "execution_count": 14,
   "metadata": {},
   "outputs": [],
   "source": [
    "moves = first_game.mainline_moves()"
   ]
  },
  {
   "cell_type": "code",
   "execution_count": 15,
   "metadata": {},
   "outputs": [
    {
     "data": {
      "text/plain": [
       "chess.pgn.Mainline"
      ]
     },
     "execution_count": 15,
     "metadata": {},
     "output_type": "execute_result"
    }
   ],
   "source": [
    "type(moves)"
   ]
  },
  {
   "cell_type": "code",
   "execution_count": 19,
   "metadata": {},
   "outputs": [
    {
     "data": {
      "text/plain": [
       "chess.Move"
      ]
     },
     "execution_count": 19,
     "metadata": {},
     "output_type": "execute_result"
    }
   ],
   "source": [
    "#moves_it = iter(moves)\n",
    "#m = next(moves_it)\n",
    "#m, m.drop"
   ]
  },
  {
   "cell_type": "code",
   "execution_count": 25,
   "metadata": {},
   "outputs": [
    {
     "data": {
      "text/plain": [
       "(Move.from_uci('d5e6'), None)"
      ]
     },
     "execution_count": 25,
     "metadata": {},
     "output_type": "execute_result"
    }
   ],
   "source": [
    "#m = next(moves_it)\n",
    "#m, m.drop"
   ]
  },
  {
   "cell_type": "code",
   "execution_count": 32,
   "metadata": {},
   "outputs": [
    {
     "name": "stdout",
     "output_type": "stream",
     "text": [
      "e4\n",
      "d5\n",
      "exd5\n",
      "Nf6\n",
      "c4\n",
      "e6\n",
      "dxe6\n",
      "Bxe6\n",
      "d3\n",
      "Nc6\n"
     ]
    }
   ],
   "source": [
    "board = chess.Board()\n",
    "for m in list(moves)[0:10] :\n",
    "    print(board.san(m))\n",
    "    board.push(m)"
   ]
  },
  {
   "cell_type": "code",
   "execution_count": null,
   "metadata": {},
   "outputs": [],
   "source": [
    "print(first_game.headers['White'])"
   ]
  },
  {
   "cell_type": "code",
   "execution_count": 27,
   "metadata": {},
   "outputs": [
    {
     "name": "stdout",
     "output_type": "stream",
     "text": [
      "Score: PovScore(Cp(-38), BLACK)\n",
      "Score: PovScore(Cp(+104), WHITE)\n",
      "Score: PovScore(Cp(-66), BLACK)\n",
      "Score: PovScore(Cp(+85), WHITE)\n",
      "Score: PovScore(Cp(-21), BLACK)\n",
      "Score: PovScore(Cp(+69), WHITE)\n",
      "Score: PovScore(Cp(-41), BLACK)\n",
      "Score: PovScore(Cp(+46), WHITE)\n",
      "Score: PovScore(Cp(+40), BLACK)\n",
      "Score: PovScore(Cp(-47), WHITE)\n",
      "r2qkb1r/ppp2ppp/2n1bn2/8/2P5/3P4/PP3PPP/RNBQKBNR w KQkq -\n",
      "Done !\n"
     ]
    }
   ],
   "source": [
    "board = first_game.board()\n",
    "for move in list(first_game.mainline_moves())[0:10] :\n",
    "    board.push(move)\n",
    "    info = engine.analyse(board, chess.engine.Limit(time=0.1))\n",
    "    print(\"Score:\", info['score'])\n",
    "print(board.epd())\n",
    "engine.quit()\n",
    "print('Done !')"
   ]
  },
  {
   "cell_type": "code",
   "execution_count": 29,
   "metadata": {},
   "outputs": [
    {
     "data": {
      "text/plain": [
       "[Move.from_uci('e2e4'),\n",
       " Move.from_uci('d7d5'),\n",
       " Move.from_uci('e4d5'),\n",
       " Move.from_uci('g8f6'),\n",
       " Move.from_uci('c2c4'),\n",
       " Move.from_uci('e7e6'),\n",
       " Move.from_uci('d5e6'),\n",
       " Move.from_uci('c8e6'),\n",
       " Move.from_uci('d2d3'),\n",
       " Move.from_uci('b8c6')]"
      ]
     },
     "execution_count": 29,
     "metadata": {},
     "output_type": "execute_result"
    }
   ],
   "source": [
    "board.move_stack"
   ]
  },
  {
   "cell_type": "code",
   "execution_count": 31,
   "metadata": {},
   "outputs": [
    {
     "data": {
      "text/plain": [
       "'Bxe7'"
      ]
     },
     "execution_count": 31,
     "metadata": {},
     "output_type": "execute_result"
    }
   ],
   "source": [
    "board.san(chess.Move.from_uci('f8e7'))"
   ]
  },
  {
   "cell_type": "code",
   "execution_count": null,
   "metadata": {},
   "outputs": [],
   "source": []
  }
 ],
 "metadata": {
  "interpreter": {
   "hash": "8e284ee3255a07ad8bf76694974743c4c81cb57e7c969474d752d949b11d721e"
  },
  "kernelspec": {
   "display_name": "Python 3.9.13 64-bit",
   "language": "python",
   "name": "python3"
  },
  "language_info": {
   "codemirror_mode": {
    "name": "ipython",
    "version": 3
   },
   "file_extension": ".py",
   "mimetype": "text/x-python",
   "name": "python",
   "nbconvert_exporter": "python",
   "pygments_lexer": "ipython3",
   "version": "3.9.13"
  },
  "orig_nbformat": 4
 },
 "nbformat": 4,
 "nbformat_minor": 2
}
