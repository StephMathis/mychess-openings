{
 "cells": [
  {
   "cell_type": "code",
   "execution_count": 1,
   "metadata": {},
   "outputs": [],
   "source": [
    "import requests"
   ]
  },
  {
   "cell_type": "code",
   "execution_count": 4,
   "metadata": {},
   "outputs": [],
   "source": [
    "api_lichess_token = \"lip_aGngjF1zO0LvHNKrGujX\"\n",
    "api_lichess_url = \"https://lichess.org/api/games/user/metaheuristic\"\n",
    "\n",
    "nb=10\n",
    "headers = {\n",
    "    'Authorization' : f'Bearer {api_lichess_token}'\n",
    "}\n",
    "params = { \"max\":nb, 'perfType':'blitz'}\n"
   ]
  },
  {
   "cell_type": "code",
   "execution_count": 5,
   "metadata": {},
   "outputs": [],
   "source": [
    "r = requests.get(api_lichess_url, params=params)\n"
   ]
  },
  {
   "cell_type": "code",
   "execution_count": 6,
   "metadata": {},
   "outputs": [
    {
     "data": {
      "text/plain": [
       "'[Event \"Rated Blitz game\"]\\n[Site \"https://lichess.org/JBwwiXBC\"]\\n[Date \"2022.05.26\"]\\n[White \"metaheuristic\"]\\n[Black \"akispara\"]\\n[Result \"1-0\"]\\n[UTCDate \"2022.05.26\"]\\n[UTCTime \"18:19:39\"]\\n[WhiteElo \"2116\"]\\n[BlackElo \"2056\"]\\n[WhiteRatingDiff \"+6\"]\\n[BlackRatingDiff \"-5\"]\\n[Variant \"Standard\"]\\n[TimeControl \"180+2\"]\\n[ECO \"B01\"]\\n[Termination \"Normal\"]\\n\\n1. e4 d5 2. exd5 Nf6 3. c4 e6 4. dxe6 Bxe6 5. d3 Nc6 6. Nf3 Qe7 7. Be3 O-O-O 8. Nbd2 Nb4 9. d4 Bf5 10. Rc1 Nxa2 11. Ra1 Nb4 12. Rxa7 Kb8 13. Qa4 Na6 14. d5 Ng4 15. Rxb7+ Kxb7 16. Qc6+ Kb8 17. Qb5+ Kc8 18. Qxa6+ Kd7 19. Qb5+ Kc8 20. c5 Nxe3 21. Qa6+ Kd7 22. Bb5+ c6 23. Qxc6# 1-0\\n\\n\\n[Event \"Rated Blitz game\"]\\n[Site \"https://lichess.org/VZgqCB2K\"]\\n[Date \"2022.05.17\"]\\n[White \"metaheuristic\"]\\n[Black \"msrojas\"]\\n[Result \"0-1\"]\\n[UTCDate \"2022.05.17\"]\\n[UTCTime \"20:48:47\"]\\n[WhiteElo \"2124\"]\\n[BlackElo \"2028\"]\\n[WhiteRatingDiff \"-8\"]\\n[BlackRatingDiff \"+8\"]\\n[Variant \"Standard\"]\\n[TimeControl \"180+2\"]\\n[ECO \"B33\"]\\n[Termination \"Normal\"]\\n\\n1. e4 c5 2. Nf3 Nc6 3. d4 cxd4 4. Nxd4 e5 5. Nb5 d6 6. N1c3 a6 7. Na3 b5 8. Nd5 Nf6 9. Bg5 Qa5+ 10. Qd2 Qxd2+ 11. Bxd2 Nxd5 12. exd5 Nd4 13. Bd3 Bb7 14. c3 b4 15. cxd4 bxa3 16. bxa3 Bxd5 17. O-O Be7 18. Rfe1 f6 19. dxe5 dxe5 20. Bb4 a5 21. Bb5+ Kf7 22. Bxe7 Kxe7 23. Red1 Rhd8 24. a4 Rac8 25. a3 Rc3 26. h3 h5 27. Rac1 Rxc1 28. Rxc1 g5 29. Rc7+ Ke6 30. Ra7 Ra8 31. Rh7 h4 32. f3 Kf5 33. Bd7+ Kg6 34. Re7 Bb3 35. Bb5 Bd5 36. Rd7 Be6 37. Rd6 Kf7 38. Kf2 f5 39. Ke3 Rc8 40. Ra6 Rc3+ 41. Kd2 Rxa3 42. Rxa5 Ra2+ 43. Kc3 Rxg2 44. Ra7+ Kf8 45. a5 Bd5 46. a6 Rg3 47. Rd7 Bxf3 48. Kb4 Rxh3 49. a7 Rh2 50. Rd6 Rb2+ 51. Kc5 Ra2 52. Ra6 Rxa6 53. Bxa6 h3 54. Kb6 h2 55. Bb7 Bxb7 56. Kxb7 h1=Q+ 57. Kb8 Qd5 58. a8=Q Qxa8+ 0-1\\n\\n\\n[Event \"Rated Blitz game\"]\\n[Site \"https://lichess.org/IRPKaFBA\"]\\n[Date \"2022.05.17\"]\\n[White \"metaheuristic\"]\\n[Black \"MaximoHG\"]\\n[Result \"1-0\"]\\n[UTCDate \"2022.05.17\"]\\n[UTCTime \"20:46:56\"]\\n[WhiteElo \"2117\"]\\n[BlackElo \"2138\"]\\n[WhiteRatingDiff \"+7\"]\\n[BlackRatingDiff \"-6\"]\\n[Variant \"Standard\"]\\n[TimeControl \"180+2\"]\\n[ECO \"C89\"]\\n[Termination \"Normal\"]\\n\\n1. e4 e5 2. Nf3 Nc6 3. Bb5 a6 4. Ba4 Nf6 5. O-O b5 6. Bb3 Be7 7. Re1 O-O 8. c3 d5 9. exd5 Nxd5 10. Nxe5 Nxe5 11. Rxe5 c6 12. d4 Bd6 13. Re2 Bg4 14. f3 Qh4 15. g3 Bxg3 16. hxg3 Qxg3+ 17. Rg2 Qxf3 18. Rxg4 1-0\\n\\n\\n[Event \"Rated Blitz game\"]\\n[Site \"https://lichess.org/KubAvr4v\"]\\n[Date \"2022.05.17\"]\\n[White \"metaheuristic\"]\\n[Black \"Cargimval\"]\\n[Result \"1-0\"]\\n[UTCDate \"2022.05.17\"]\\n[UTCTime \"20:44:54\"]\\n[WhiteElo \"2112\"]\\n[BlackElo \"2076\"]\\n[WhiteRatingDiff \"+5\"]\\n[BlackRatingDiff \"-5\"]\\n[Variant \"Standard\"]\\n[TimeControl \"180+2\"]\\n[ECO \"C19\"]\\n[Termination \"Normal\"]\\n\\n1. e4 e6 2. d4 d5 3. Nc3 Bb4 4. e5 c5 5. a3 Bxc3+ 6. bxc3 Ne7 7. Qg4 O-O 8. Bd3 Nbc6 9. Bxh7+ Kxh7 10. Qh5+ Kg8 11. Nf3 g6 12. Qh3 Nf5 13. Ng5 Re8 14. Qh7+ 1-0\\n\\n\\n[Event \"Rated Blitz game\"]\\n[Site \"https://lichess.org/cBBhSQib\"]\\n[Date \"2022.05.17\"]\\n[White \"metaheuristic\"]\\n[Black \"VAK69273\"]\\n[Result \"1-0\"]\\n[UTCDate \"2022.05.17\"]\\n[UTCTime \"20:42:20\"]\\n[WhiteElo \"2104\"]\\n[BlackElo \"2192\"]\\n[WhiteRatingDiff \"+8\"]\\n[BlackRatingDiff \"-7\"]\\n[Variant \"Standard\"]\\n[TimeControl \"180+2\"]\\n[ECO \"B32\"]\\n[Termination \"Normal\"]\\n\\n1. e4 c5 2. Nf3 Nc6 3. d4 cxd4 4. Nxd4 e5 5. Nb5 d6 6. N1c3 a6 7. Na3 b5 8. Nd5 Nge7 9. c4 b4 10. Nc2 a5 11. Nce3 Ba6 12. b3 Ng6 13. Nf5 Be7 14. Nxg7+ Kd7 15. Qg4+ f5 16. Qxf5# 1-0\\n\\n\\n[Event \"Rated Blitz game\"]\\n[Site \"https://lichess.org/uKNtfs9u\"]\\n[Date \"2022.05.17\"]\\n[White \"kanani123\"]\\n[Black \"metaheuristic\"]\\n[Result \"1-0\"]\\n[UTCDate \"2022.05.17\"]\\n[UTCTime \"20:34:46\"]\\n[WhiteElo \"2168\"]\\n[BlackElo \"2109\"]\\n[WhiteRatingDiff \"+4\"]\\n[BlackRatingDiff \"-5\"]\\n[Variant \"Standard\"]\\n[TimeControl \"180+2\"]\\n[ECO \"C15\"]\\n[Termination \"Time forfeit\"]\\n\\n1. e4 e6 2. d4 d5 3. Nc3 Bb4 4. exd5 exd5 5. Bd3 Nc6 6. Ne2 Bg4 7. f3 Bh5 8. O-O Nge7 9. Bf4 f6 10. Ng3 Bg6 11. Nce2 Bxd3 12. Qxd3 g5 13. Bd2 Bd6 14. Nf5 Nxf5 15. Qxf5 Be7 16. h4 Qd7 17. Ng3 Nxd4 18. Qxd7+ Kxd7 19. hxg5 fxg5 20. Bc3 Bc5 21. Kh1 Rhf8 22. Rad1 Nxc2 23. Rxd5+ Kc6 24. Rxg5 Rad8 25. Ne4 Bd6 26. Nxd6 Rxd6 27. Rc1 Rh6+ 28. Kg1 1-0\\n\\n\\n[Event \"Rated Blitz game\"]\\n[Site \"https://lichess.org/lQZCofaM\"]\\n[Date \"2022.05.17\"]\\n[White \"metaheuristic\"]\\n[Black \"MamaLola\"]\\n[Result \"0-1\"]\\n[UTCDate \"2022.05.17\"]\\n[UTCTime \"20:17:44\"]\\n[WhiteElo \"2116\"]\\n[BlackElo \"2135\"]\\n[WhiteRatingDiff \"-7\"]\\n[BlackRatingDiff \"+6\"]\\n[Variant \"Standard\"]\\n[TimeControl \"180+2\"]\\n[ECO \"B41\"]\\n[Termination \"Normal\"]\\n\\n1. e4 c5 2. Nf3 e6 3. d4 cxd4 4. Nxd4 a6 5. c4 Nf6 6. Nc3 Bb4 7. Bg5 Qa5 8. Bxf6 Bxc3+ 9. bxc3 Qxc3+ 10. Ke2 Qxc4+ 11. Kf3 Qc3+ 12. Qd3 Qxd3+ 13. Bxd3 gxf6 14. Ke3 Nc6 15. Nxc6 bxc6 16. f4 Ke7 17. g4 d5 18. exd5 cxd5 19. Rhc1 Ra7 20. Rab1 Bd7 21. Rb6 h5 22. g5 fxg5 23. fxg5 Bb5 24. Bxb5 axb5 25. Rxb5 Kd6 26. Rc2 Rha8 27. Rb6+ Ke5 28. Rbb2 Ra3+ 29. Kf2 d4 30. h4 Kf4 31. Kg2 Kg4 32. Rc4 R3a4 33. Rc7 Rxa2 0-1\\n\\n\\n[Event \"Rated Blitz game\"]\\n[Site \"https://lichess.org/LDcdUPoL\"]\\n[Date \"2022.05.17\"]\\n[White \"Allon555\"]\\n[Black \"metaheuristic\"]\\n[Result \"1-0\"]\\n[UTCDate \"2022.05.17\"]\\n[UTCTime \"20:10:18\"]\\n[WhiteElo \"2271\"]\\n[BlackElo \"2119\"]\\n[WhiteRatingDiff \"+4\"]\\n[BlackRatingDiff \"-3\"]\\n[Variant \"Standard\"]\\n[TimeControl \"180+2\"]\\n[ECO \"C17\"]\\n[Termination \"Normal\"]\\n\\n1. e4 e6 2. d4 d5 3. Nc3 Bb4 4. e5 c5 5. Qg4 Ne7 6. Bd2 Nbc6 7. Bb5 Bd7 8. Bxc6 Bxc6 9. Nge2 Ng6 10. a3 cxd4 11. axb4 dxc3 12. Bxc3 Qh4 13. Qxh4 Nxh4 14. O-O O-O 15. Rfe1 d4 16. Nxd4 Bxg2 17. f4 Bh3 18. Kf2 Nf5 19. Nxf5 Bxf5 20. Re2 g6 21. Bd4 Rfc8 22. c3 a6 23. Rd2 h5 24. Bb6 Bg4 25. Rd7 Rab8 26. Ba7 Rd8 27. Rd6 Rbc8 28. Ke3 Kf8 29. Bc5 Ke8 30. h3 Bxh3 31. Rad1 Bg4 32. R1d4 Rxd6 33. Bxd6 Rc6 34. Kf2 b5 35. Kg3 Bf5 36. Kh4 Bc2 37. Kg5 Bf5 38. Kf6 Bg4 39. Rd2 Bf5 40. Bc5 Bg4 41. b3 Bf5 42. c4 Be4 43. cxb5 axb5 44. Ra2 Rc8 45. Ra7 h4 46. Re7+ Kd8 47. Bb6+ 1-0\\n\\n\\n[Event \"Rated Blitz game\"]\\n[Site \"https://lichess.org/Bd5YVRrN\"]\\n[Date \"2022.05.17\"]\\n[White \"f2user\"]\\n[Black \"metaheuristic\"]\\n[Result \"0-1\"]\\n[UTCDate \"2022.05.17\"]\\n[UTCTime \"19:57:15\"]\\n[WhiteElo \"2083\"]\\n[BlackElo \"2113\"]\\n[WhiteRatingDiff \"-5\"]\\n[BlackRatingDiff \"+6\"]\\n[Variant \"Standard\"]\\n[TimeControl \"180+2\"]\\n[ECO \"A03\"]\\n[Termination \"Normal\"]\\n\\n1. f4 d5 2. Nf3 g6 3. e3 Bg7 4. Ne5 c5 5. b3 Nc6 6. Bb5 Bd7 7. Bxc6 Bxc6 8. Bb2 Bxe5 9. fxe5 d4 10. O-O Qd5 11. Qg4 Rd8 12. c4 Qxe5 13. exd4 cxd4 14. d3 Nf6 15. Qh3 O-O 16. Nd2 Qe3+ 17. Qxe3 dxe3 18. Bxf6 exf6 19. Ne4 Bxe4 20. dxe4 Rfe8 21. Rxf6 Rxe4 22. Re1 Rd2 23. Rf3 Rxa2 24. Rfxe3 Rxe3 25. Rxe3 Rb2 26. h3 a5 27. Kh2 Kg7 28. Kg3 Kf6 29. Kf3 Kf5 30. g4+ Kf6 31. h4 Rh2 32. g5+ Kf5 33. Kg3 Rb2 34. Rd3 Ke6 35. Kf4 a4 36. bxa4 Rb4 37. Rd4 Rxa4 38. Kg4 b5 39. Re4+ Kd6 40. Rd4+ Ke5 41. Rd5+ Ke6 42. Rxb5 Rxc4+ 43. Kg3 Rc7 44. Rb6+ Kf5 45. Rf6+ Ke5 46. Kg4 Rd7 47. Kg3 Rd3+ 48. Kg4 Rd4+ 49. Kg3 Rd7 50. Kg4 h5+ 51. Kg3 Re7 52. Kf3 Kd4 53. Kf4 Re4+ 54. Kg3 Re7 55. Kf4 Kd5 56. Kg3 Ke5 57. Kf3 Rd7 58. Kg3 Rc7 59. Kf3 Rc1 60. Kg3 Rg1+ 61. Kh2 Rg4 62. Kh3 Rf4 63. Ra6 f5 64. gxf6 Rxf6 65. Ra5+ Kd4 66. Rg5 Ke4 67. Ra5 Rf3+ 68. Kg2 Rf4 69. Kh3 Ke3 70. Rg5 Rf6 71. Rg3+ Kf4 72. Rg5 Re6 73. Rg3 Kf5 74. Rg5+ Kf6 75. Ra5 Re5 76. Ra6+ Kf5 77. Ra8 Re3+ 78. Kg2 Kg4 79. Rg8 Re6 80. Ra8 Kxh4 81. Ra4+ Kg5 82. Kf3 h4 83. Rg4+ Kh5 84. Rf4 g5 85. Rf5 Rb6 86. Kg2 Kg4 87. Ra5 Rb2+ 88. Kh1 Rb3 89. Ra4+ Kg3 90. Ra1 g4 91. Kg1 h3 92. Kh1 Rf3 93. Rg1+ Kh4 94. Kh2 Rf2+ 95. Kh1 g3 96. Ra1 Rf4 97. Kg1 h2+ 98. Kh1 Kh3 99. Rb1 g2# 0-1\\n\\n\\n[Event \"Rated Blitz game\"]\\n[Site \"https://lichess.org/WTeC7Ci5\"]\\n[Date \"2022.05.17\"]\\n[White \"metaheuristic\"]\\n[Black \"f2user\"]\\n[Result \"1/2-1/2\"]\\n[UTCDate \"2022.05.17\"]\\n[UTCTime \"19:49:10\"]\\n[WhiteElo \"2114\"]\\n[BlackElo \"2083\"]\\n[WhiteRatingDiff \"-1\"]\\n[BlackRatingDiff \"+0\"]\\n[Variant \"Standard\"]\\n[TimeControl \"180+2\"]\\n[ECO \"B39\"]\\n[Termination \"Normal\"]\\n\\n1. e4 c5 2. Nf3 Nc6 3. d4 cxd4 4. Nxd4 g6 5. c4 Bg7 6. Be3 Nf6 7. Nc3 Ng4 8. Nxc6 Nxe3 9. Nxd8 Nxd1 10. Nxd1 Kxd8 11. Rb1 d6 12. Bd3 Be6 13. O-O Rc8 14. b3 Kc7 15. g3 Kb8 16. f4 h5 17. Kg2 h4 18. f5 gxf5 19. exf5 Bd7 20. Be4 hxg3 21. hxg3 Be5 22. Ne3 Rcg8 23. Rf3 e6 24. fxe6 Bxe6 25. Bf5 Rh5 26. Rbf1 Rhg5 27. Bxe6 Rxg3+ 28. Rxg3 Rxg3+ 29. Kf2 fxe6 30. Rh1 Rg8 31. Rh6 Re8 32. Ng4 Bd4+ 33. Kf3 Kc7 34. Ke4 e5 35. Nf6 Rf8 36. Nd5+ Kc6 37. Rh7 Bb6 38. Ne7+ Kc5 39. Nd5 Kc6 40. Rh6 Bc5 41. Rh7 Bb6 1/2-1/2\\n\\n\\n'"
      ]
     },
     "execution_count": 6,
     "metadata": {},
     "output_type": "execute_result"
    }
   ],
   "source": [
    "r.text"
   ]
  },
  {
   "cell_type": "code",
   "execution_count": null,
   "metadata": {},
   "outputs": [],
   "source": []
  }
 ],
 "metadata": {
  "interpreter": {
   "hash": "a0b743e3f46610aef585505bfb8ed266070dd1178baff540cb1eb86ae22f2f85"
  },
  "kernelspec": {
   "display_name": "Python 3.9.13 64-bit",
   "language": "python",
   "name": "python3"
  },
  "language_info": {
   "codemirror_mode": {
    "name": "ipython",
    "version": 3
   },
   "file_extension": ".py",
   "mimetype": "text/x-python",
   "name": "python",
   "nbconvert_exporter": "python",
   "pygments_lexer": "ipython3",
   "version": "3.9.13"
  },
  "orig_nbformat": 4
 },
 "nbformat": 4,
 "nbformat_minor": 2
}
